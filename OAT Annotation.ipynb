{
 "cells": [
  {
   "cell_type": "code",
   "execution_count": 1,
   "metadata": {},
   "outputs": [],
   "source": [
    "import sqlite3\n",
    "import pandas as pd\n",
    "import webbrowser\n",
    "from sqlalchemy import create_engine"
   ]
  },
  {
   "cell_type": "code",
   "execution_count": 2,
   "metadata": {},
   "outputs": [],
   "source": [
    "file = 'drugs.xlsx' #file originally a .tsv available from pharmgkb downloads\n",
    "#output = 'output.xlsx' #can be used to output results"
   ]
  },
  {
   "cell_type": "code",
   "execution_count": null,
   "metadata": {},
   "outputs": [],
   "source": [
    "engine = create_engine('sqlite://', echo=False)\n",
    "df=pd.read_excel(file, sheet_name='drugs')\n",
    "df.to_sql('drugsGKB', engine, if_exists='replace', index=False) \n",
    "\n",
    "drug_name = input(\"Enter Drug Name: \") #drug selection; try to draw to provide automatically\n",
    "\n",
    "\n",
    "#results match generic name with queried drug and then filter based on existence of FDA guidelines, \n",
    "    #does not search for guidelines from other countries sat this moment. \n",
    "    #Only results if testing is required or has actional PGx, does not include informative\n",
    "result = engine.execute(\"Select [PharmGKB Accession Id] from drugsGKB \\\n",
    "                         where Name = ? \\\n",
    "                         and [Top FDA Label Testing Level] in ('Testing required','Actionable PGx')\", (drug_name)) \n",
    "\n",
    "final = pd.DataFrame(result, columns = ['PharmGKB Accession Id'])\n",
    "list = final.values.tolist() #transform into list\n",
    "\n",
    "\n",
    "#osimertinib for testing\n",
    "#Data has been compiled using \n",
    "if final.empty:\n",
    "    print(\"There is no FDA annotation at this time\")\n",
    "else: \n",
    "    string = str(list) #transform into string to edit\n",
    "    new_string = string.replace(\"'\", \"\") #remove single quote\n",
    "    new_string1 = new_string.replace(\"[[\", \"\") #remove square bracket\n",
    "    url = new_string1.replace(\"]]\", \"\") #remove square bracket and final for url\n",
    "    webbrowser.open('http://www.pharmgkb.org/chemical/'+url+'/guidelineAnnotation')"
   ]
  }
 ],
 "metadata": {
  "kernelspec": {
   "display_name": "Python 3",
   "language": "python",
   "name": "python3"
  },
  "language_info": {
   "codemirror_mode": {
    "name": "ipython",
    "version": 3
   },
   "file_extension": ".py",
   "mimetype": "text/x-python",
   "name": "python",
   "nbconvert_exporter": "python",
   "pygments_lexer": "ipython3",
   "version": "3.8.3"
  }
 },
 "nbformat": 4,
 "nbformat_minor": 4
}
